{
 "cells": [
  {
   "cell_type": "markdown",
   "id": "65bd36fe",
   "metadata": {},
   "source": [
    "imports"
   ]
  },
  {
   "cell_type": "code",
   "execution_count": 1,
   "id": "2aac5eae",
   "metadata": {},
   "outputs": [],
   "source": [
    "from scipy.io import arff\n",
    "import pandas as pd\n",
    "from sklearn.feature_selection import f_classif, SelectKBest\n",
    "from sklearn.preprocessing import LabelEncoder, label_binarize\n",
    "import numpy as np\n",
    "import scipy.io\n",
    "from sklearn.impute import SimpleImputer"
   ]
  },
  {
   "cell_type": "markdown",
   "id": "eb8e5404",
   "metadata": {},
   "source": [
    "Reading csv files, and in case there are more then 3000 features, cut the top 1000 features\n",
    "\n",
    "\n",
    "Relavent for files where the result was under 'Class', \n",
    "similarly there was other \"target\" names, so I changed the ame to hava a standard target name.\n",
    "\n",
    "for .mat files the reading will be:\n",
    "\n",
    "data = arff.loadarff(file_name)\n",
    "df = DataFrame(data[0])"
   ]
  },
  {
   "cell_type": "code",
   "execution_count": 2,
   "id": "d98a0589",
   "metadata": {},
   "outputs": [
    {
     "name": "stdout",
     "output_type": "stream",
     "text": [
      "ARFF/journal.pone.0246039.s006.csv\n"
     ]
    }
   ],
   "source": [
    "selector = SelectKBest(f_classif, k=1000)\n",
    "MAX_FEATURES = 3000\n",
    "file_path = ['ARFF/journal.pone.0246039.s006.csv'] #, 'ARFF/pone.0202167.s011.arff', 'ARFF/pone.0202167.s012.arff','ARFF/pone.0202167.s015.arff'\n",
    "\n",
    "for file_name in file_path:\n",
    "    print(file_name)\n",
    "    selector = SelectKBest(f_classif, k=1000)\n",
    "    df = pd.read_csv(file_name)\n",
    "    le = LabelEncoder()\n",
    "    df['Class'] = le.fit_transform(df['Class'])\n",
    "    if df.shape[1] >= MAX_FEATURES:\n",
    "        feature_columns = df.drop(columns=['Class'])\n",
    "        feature_names = np.array(feature_columns.columns.to_list())\n",
    "        selector.fit(feature_columns.values, df['Class'])\n",
    "        selected_features = list(feature_names[selector.get_support()])\n",
    "        df = df.loc[:, selected_features + ['Class']]\n",
    "    df  = df.rename(columns={'Class':'target'})\n",
    "    df.to_csv(f'{file_name}_new.csv')"
   ]
  },
  {
   "cell_type": "markdown",
   "id": "d8f0aac9",
   "metadata": {},
   "source": [
    "Diffrent case of given dataset, chnage a given target column to \"target\", rename column indexes and fit_transform"
   ]
  },
  {
   "cell_type": "code",
   "execution_count": 5,
   "id": "8023fbbd",
   "metadata": {},
   "outputs": [
    {
     "name": "stdout",
     "output_type": "stream",
     "text": [
      "ARFF/bladderbatch.csv\n",
      "1002\n"
     ]
    }
   ],
   "source": [
    "selector = SelectKBest(f_classif, k=1000)\n",
    "MAX_FEATURES = 3000\n",
    "file_path = ['ARFF/bladderbatch.csv']#['FILES/BP.csv']\n",
    "\n",
    "for file_name in file_path:\n",
    "    print(file_name)\n",
    "    selector = SelectKBest(f_classif, k=1000)\n",
    "    df = pd.read_csv(file_name)\n",
    "    temp_column_names = df.iloc[0, :].values\n",
    "    column_names = [str(i) for i in temp_column_names]\n",
    "    column_names[0]='target'\n",
    "    df = df.iloc[0:, :]\n",
    "    df = df.rename(columns={index:column_names[index] for index in range(len(column_names))}).reset_index(drop=True)\n",
    "    le = LabelEncoder()\n",
    "    df['target'] = le.fit_transform(df['target'])\n",
    "    si = SimpleImputer()\n",
    "    feature_names = df.columns.to_list()\n",
    "    feature_names.remove('target')\n",
    "    df[feature_names] = si.fit_transform(df[feature_names])\n",
    "    print(df.shape[1])\n",
    "    if df.shape[1] >= MAX_FEATURES:\n",
    "        feature_columns = df.drop(columns=['target'])\n",
    "        feature_names = np.array(feature_columns.columns.to_list())\n",
    "        selector.fit(feature_columns.values, df['target'])\n",
    "        selected_features = list(feature_names[selector.get_support()])\n",
    "        df = df.loc[:, selected_features + ['target']]\n",
    "    df.to_csv(f'New/{file_name}')"
   ]
  },
  {
   "cell_type": "code",
   "execution_count": null,
   "id": "a0c3625b",
   "metadata": {},
   "outputs": [],
   "source": []
  }
 ],
 "metadata": {
  "kernelspec": {
   "display_name": "Python 3 (ipykernel)",
   "language": "python",
   "name": "python3"
  },
  "language_info": {
   "codemirror_mode": {
    "name": "ipython",
    "version": 3
   },
   "file_extension": ".py",
   "mimetype": "text/x-python",
   "name": "python",
   "nbconvert_exporter": "python",
   "pygments_lexer": "ipython3",
   "version": "3.9.7"
  }
 },
 "nbformat": 4,
 "nbformat_minor": 5
}
