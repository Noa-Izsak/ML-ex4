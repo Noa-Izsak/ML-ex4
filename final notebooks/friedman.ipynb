{
 "cells": [
  {
   "cell_type": "markdown",
   "id": "c631fa8c",
   "metadata": {},
   "source": [
    "required installations:"
   ]
  },
  {
   "cell_type": "code",
   "execution_count": 2,
   "id": "a302dd7c",
   "metadata": {},
   "outputs": [
    {
     "name": "stdout",
     "output_type": "stream",
     "text": [
      "Requirement already satisfied: imbalanced-learn in c:\\users\\noa\\anaconda3\\lib\\site-packages (0.9.1)\n",
      "Requirement already satisfied: scipy>=1.3.2 in c:\\users\\noa\\anaconda3\\lib\\site-packages (from imbalanced-learn) (1.7.3)\n",
      "Requirement already satisfied: threadpoolctl>=2.0.0 in c:\\users\\noa\\anaconda3\\lib\\site-packages (from imbalanced-learn) (2.2.0)\n",
      "Requirement already satisfied: scikit-learn>=1.1.0 in c:\\users\\noa\\anaconda3\\lib\\site-packages (from imbalanced-learn) (1.1.2)\n",
      "Requirement already satisfied: numpy>=1.17.3 in c:\\users\\noa\\anaconda3\\lib\\site-packages (from imbalanced-learn) (1.21.5)\n",
      "Requirement already satisfied: joblib>=1.0.0 in c:\\users\\noa\\anaconda3\\lib\\site-packages (from imbalanced-learn) (1.1.0)\n"
     ]
    }
   ],
   "source": [
    "!pip install imbalanced-learn"
   ]
  },
  {
   "cell_type": "code",
   "execution_count": 3,
   "id": "dc3b3f50",
   "metadata": {},
   "outputs": [
    {
     "name": "stdout",
     "output_type": "stream",
     "text": [
      "Requirement already satisfied: skfeature-chappers in c:\\users\\noa\\anaconda3\\lib\\site-packages (1.1.0)\n",
      "Requirement already satisfied: scikit-learn in c:\\users\\noa\\anaconda3\\lib\\site-packages (from skfeature-chappers) (1.1.2)\n",
      "Requirement already satisfied: pandas in c:\\users\\noa\\anaconda3\\lib\\site-packages (from skfeature-chappers) (1.4.2)\n",
      "Requirement already satisfied: numpy in c:\\users\\noa\\anaconda3\\lib\\site-packages (from skfeature-chappers) (1.21.5)\n",
      "Requirement already satisfied: python-dateutil>=2.8.1 in c:\\users\\noa\\anaconda3\\lib\\site-packages (from pandas->skfeature-chappers) (2.8.2)\n",
      "Requirement already satisfied: pytz>=2020.1 in c:\\users\\noa\\anaconda3\\lib\\site-packages (from pandas->skfeature-chappers) (2021.3)\n",
      "Requirement already satisfied: six>=1.5 in c:\\users\\noa\\anaconda3\\lib\\site-packages (from python-dateutil>=2.8.1->pandas->skfeature-chappers) (1.16.0)\n",
      "Requirement already satisfied: joblib>=1.0.0 in c:\\users\\noa\\anaconda3\\lib\\site-packages (from scikit-learn->skfeature-chappers) (1.1.0)\n",
      "Requirement already satisfied: threadpoolctl>=2.0.0 in c:\\users\\noa\\anaconda3\\lib\\site-packages (from scikit-learn->skfeature-chappers) (2.2.0)\n",
      "Requirement already satisfied: scipy>=1.3.2 in c:\\users\\noa\\anaconda3\\lib\\site-packages (from scikit-learn->skfeature-chappers) (1.7.3)\n"
     ]
    }
   ],
   "source": [
    "!pip install skfeature-chappers"
   ]
  },
  {
   "cell_type": "markdown",
   "id": "89c5d5d2",
   "metadata": {},
   "source": [
    "imports:"
   ]
  },
  {
   "cell_type": "code",
   "execution_count": 4,
   "id": "f263dcf3",
   "metadata": {},
   "outputs": [],
   "source": [
    "from skfeature.function.similarity_based.reliefF import reliefF\n",
    "from skfeature.function.information_theoretical_based.MRMR import mrmr\n",
    "import scipy.io\n",
    "import pandas as pd\n",
    "import numpy as np\n",
    "from tqdm import tqdm\n",
    "import scikit_posthocs as sp\n",
    "import time\n",
    "from sklearn.svm import SVC, SVR\n",
    "from sklearn.feature_selection import RFE, SelectFdr\n",
    "from sklearn.ensemble import RandomForestClassifier\n",
    "from sklearn.impute import SimpleImputer\n",
    "from sklearn.preprocessing import PowerTransformer\n",
    "from sklearn.linear_model import LogisticRegression\n",
    "from sklearn.neighbors import KNeighborsClassifier\n",
    "from sklearn.naive_bayes import GaussianNB\n",
    "from sklearn.metrics import matthews_corrcoef, roc_auc_score, accuracy_score, precision_recall_curve, roc_curve, auc\n",
    "from sklearn.model_selection import KFold, LeaveOneOut, LeavePOut\n",
    "from sklearn.preprocessing import LabelEncoder, label_binarize\n",
    "import os\n",
    "import ifs"
   ]
  },
  {
   "cell_type": "markdown",
   "id": "b57cd575",
   "metadata": {},
   "source": [
    "given the results from part b, we callculate the friedman test for them:"
   ]
  },
  {
   "cell_type": "code",
   "execution_count": 5,
   "id": "0889af74",
   "metadata": {},
   "outputs": [],
   "source": [
    "results_to_append = ['part b - finall.csv']\n",
    "df = pd.DataFrame()\n",
    "for path in results_to_append:\n",
    "    df_to_append = pd.read_csv(path)\n",
    "    df = pd.concat([df,df_to_append])\n",
    "auc_results = df.groupby(by=['Dataset Name', 'Filtering Algorithm'])['roc_auc_score val'].mean()\n",
    "auc_results = auc_results.reset_index()  "
   ]
  },
  {
   "cell_type": "markdown",
   "id": "ffcade47",
   "metadata": {},
   "source": [
    "display the data:"
   ]
  },
  {
   "cell_type": "code",
   "execution_count": 6,
   "id": "bc2ccc96",
   "metadata": {},
   "outputs": [
    {
     "data": {
      "text/html": [
       "<div>\n",
       "<style scoped>\n",
       "    .dataframe tbody tr th:only-of-type {\n",
       "        vertical-align: middle;\n",
       "    }\n",
       "\n",
       "    .dataframe tbody tr th {\n",
       "        vertical-align: top;\n",
       "    }\n",
       "\n",
       "    .dataframe thead th {\n",
       "        text-align: right;\n",
       "    }\n",
       "</style>\n",
       "<table border=\"1\" class=\"dataframe\">\n",
       "  <thead>\n",
       "    <tr style=\"text-align: right;\">\n",
       "      <th></th>\n",
       "      <th>Dataset Name</th>\n",
       "      <th>Filtering Algorithm</th>\n",
       "      <th>roc_auc_score val</th>\n",
       "    </tr>\n",
       "  </thead>\n",
       "  <tbody>\n",
       "    <tr>\n",
       "      <th>0</th>\n",
       "      <td>ALL</td>\n",
       "      <td>fdr_score</td>\n",
       "      <td>0.750819</td>\n",
       "    </tr>\n",
       "    <tr>\n",
       "      <th>1</th>\n",
       "      <td>ALL</td>\n",
       "      <td>func_score</td>\n",
       "      <td>0.741821</td>\n",
       "    </tr>\n",
       "    <tr>\n",
       "      <th>2</th>\n",
       "      <td>ALL</td>\n",
       "      <td>mrmr_score</td>\n",
       "      <td>0.784628</td>\n",
       "    </tr>\n",
       "    <tr>\n",
       "      <th>3</th>\n",
       "      <td>ALL</td>\n",
       "      <td>reliefF_score</td>\n",
       "      <td>0.785392</td>\n",
       "    </tr>\n",
       "    <tr>\n",
       "      <th>4</th>\n",
       "      <td>Breast</td>\n",
       "      <td>fdr_score</td>\n",
       "      <td>0.809175</td>\n",
       "    </tr>\n",
       "    <tr>\n",
       "      <th>...</th>\n",
       "      <td>...</td>\n",
       "      <td>...</td>\n",
       "      <td>...</td>\n",
       "    </tr>\n",
       "    <tr>\n",
       "      <th>179</th>\n",
       "      <td>subramanian</td>\n",
       "      <td>rfe_score</td>\n",
       "      <td>0.906239</td>\n",
       "    </tr>\n",
       "    <tr>\n",
       "      <th>180</th>\n",
       "      <td>west</td>\n",
       "      <td>fdr_score</td>\n",
       "      <td>0.929833</td>\n",
       "    </tr>\n",
       "    <tr>\n",
       "      <th>181</th>\n",
       "      <td>west</td>\n",
       "      <td>func_score</td>\n",
       "      <td>0.914167</td>\n",
       "    </tr>\n",
       "    <tr>\n",
       "      <th>182</th>\n",
       "      <td>west</td>\n",
       "      <td>mrmr_score</td>\n",
       "      <td>0.588833</td>\n",
       "    </tr>\n",
       "    <tr>\n",
       "      <th>183</th>\n",
       "      <td>west</td>\n",
       "      <td>reliefF_score</td>\n",
       "      <td>0.629167</td>\n",
       "    </tr>\n",
       "  </tbody>\n",
       "</table>\n",
       "<p>184 rows × 3 columns</p>\n",
       "</div>"
      ],
      "text/plain": [
       "    Dataset Name Filtering Algorithm  roc_auc_score val\n",
       "0            ALL           fdr_score           0.750819\n",
       "1            ALL          func_score           0.741821\n",
       "2            ALL          mrmr_score           0.784628\n",
       "3            ALL       reliefF_score           0.785392\n",
       "4         Breast           fdr_score           0.809175\n",
       "..           ...                 ...                ...\n",
       "179  subramanian           rfe_score           0.906239\n",
       "180         west           fdr_score           0.929833\n",
       "181         west          func_score           0.914167\n",
       "182         west          mrmr_score           0.588833\n",
       "183         west       reliefF_score           0.629167\n",
       "\n",
       "[184 rows x 3 columns]"
      ]
     },
     "metadata": {},
     "output_type": "display_data"
    }
   ],
   "source": [
    "display(auc_results)"
   ]
  },
  {
   "cell_type": "markdown",
   "id": "eb82e8c0",
   "metadata": {},
   "source": [
    "get all the datasets:"
   ]
  },
  {
   "cell_type": "code",
   "execution_count": 9,
   "id": "510d8f9c",
   "metadata": {},
   "outputs": [],
   "source": [
    "data_files = [(\"./MAT/\"+f) for f in os.listdir('./MAT/') if '.csv' in f]+[(\"./MAT/\"+f) for f in os.listdir('./MAT/') if '.mat' in f]"
   ]
  },
  {
   "cell_type": "markdown",
   "id": "2695fb55",
   "metadata": {},
   "source": [
    "display the datsets"
   ]
  },
  {
   "cell_type": "code",
   "execution_count": 10,
   "id": "c492551c",
   "metadata": {},
   "outputs": [
    {
     "data": {
      "text/plain": [
       "['./MAT/ALL.csv',\n",
       " './MAT/alon.csv',\n",
       " './MAT/ayeastCC.csv',\n",
       " './MAT/bladderbatch.csv',\n",
       " './MAT/Breast.csv',\n",
       " './MAT/christensen.csv',\n",
       " './MAT/CLL.csv',\n",
       " './MAT/CNS.csv',\n",
       " './MAT/COPDSexualDimorphism.csv',\n",
       " './MAT/curatedOvarianData.csv',\n",
       " './MAT/FS.csv',\n",
       " './MAT/FSH.csv',\n",
       " './MAT/golub.csv',\n",
       " './MAT/khan.csv',\n",
       " './MAT/leukemia.csv',\n",
       " './MAT/Leukemia_3c.csv',\n",
       " './MAT/Leukemia_4c.csv',\n",
       " './MAT/madelon.csv',\n",
       " './MAT/MLL.csv',\n",
       " './MAT/pomeroy.csv',\n",
       " './MAT/pone001.csv',\n",
       " './MAT/pone002.csv',\n",
       " './MAT/pone003.csv',\n",
       " './MAT/pone004.csv',\n",
       " './MAT/pone005.csv',\n",
       " './MAT/pone011.csv',\n",
       " './MAT/pone012.csv',\n",
       " './MAT/pone013.csv',\n",
       " './MAT/pone015.csv',\n",
       " './MAT/pone016.csv',\n",
       " './MAT/shipp.csv',\n",
       " './MAT/sorlie.csv',\n",
       " './MAT/SRBCT.csv',\n",
       " './MAT/su.csv',\n",
       " './MAT/subramanian.csv',\n",
       " './MAT/west.csv',\n",
       " './MAT/colon.mat',\n",
       " './MAT/lung_smALL.mat',\n",
       " './MAT/lymphoma.mat',\n",
       " './MAT/nci9.mat']"
      ]
     },
     "execution_count": 10,
     "metadata": {},
     "output_type": "execute_result"
    }
   ],
   "source": [
    "data_files"
   ]
  },
  {
   "cell_type": "markdown",
   "id": "b5723dc1",
   "metadata": {},
   "source": [
    "the friedman test:"
   ]
  },
  {
   "cell_type": "code",
   "execution_count": 11,
   "id": "a1f6d63b",
   "metadata": {},
   "outputs": [
    {
     "name": "stdout",
     "output_type": "stream",
     "text": [
      "ALL\n",
      "alon\n",
      "ayeastCC\n",
      "bladderbatch\n",
      "Breast\n",
      "christensen\n",
      "CLL\n",
      "CNS\n",
      "COPDSexualDimorphism\n",
      "curatedOvarianData\n",
      "FS\n",
      "FSH\n",
      "golub\n",
      "khan\n",
      "leukemia\n",
      "Leukemia_3c\n",
      "Leukemia_4c\n",
      "madelon\n",
      "MLL\n",
      "pomeroy\n",
      "pone001\n",
      "pone002\n",
      "pone003\n",
      "pone004\n",
      "pone005\n",
      "pone011\n",
      "pone012\n",
      "pone013\n",
      "pone015\n",
      "pone016\n",
      "shipp\n",
      "sorlie\n",
      "SRBCT\n",
      "su\n",
      "subramanian\n",
      "west\n",
      "colon\n",
      "lung_smALL\n",
      "lymphoma\n",
      "nci9\n",
      "same distribution, failed to reject H0 for \n",
      "p_value is:\n",
      "0.48609714517719177\n"
     ]
    }
   ],
   "source": [
    "from scipy.stats import friedmanchisquare\n",
    "\n",
    "alpha = 0.05\n",
    "observations = []\n",
    "for data_file_path in data_files[:40]:\n",
    "    file_name = data_file_path.split('/')[-1]\n",
    "    file_name = file_name.split('.')[0]\n",
    "    print(file_name)\n",
    "    df = auc_results[auc_results['Dataset Name'] == file_name]\n",
    "    \n",
    "\n",
    "    filter_algortihms_names = df['Filtering Algorithm'].unique()\n",
    "\n",
    "    for fil_name in filter_algortihms_names:\n",
    "        auc_vals = df[df['Filtering Algorithm'] == fil_name]['roc_auc_score val'].values\n",
    "        observations.append(auc_vals)\n",
    "\n",
    "stat, p_val = friedmanchisquare(*observations)\n",
    "\n",
    "if p_val > alpha:\n",
    "    print(\"same distribution, failed to reject H0 for \")\n",
    "    print(\"p_value is:\")\n",
    "    print(p_val)\n",
    "else:\n",
    "    p_vals = sp.posthoc_nemenyi_friedman(observations.T)\n",
    "    print(p_vals)"
   ]
  }
 ],
 "metadata": {
  "kernelspec": {
   "display_name": "Python 3 (ipykernel)",
   "language": "python",
   "name": "python3"
  },
  "language_info": {
   "codemirror_mode": {
    "name": "ipython",
    "version": 3
   },
   "file_extension": ".py",
   "mimetype": "text/x-python",
   "name": "python",
   "nbconvert_exporter": "python",
   "pygments_lexer": "ipython3",
   "version": "3.9.12"
  }
 },
 "nbformat": 4,
 "nbformat_minor": 5
}
